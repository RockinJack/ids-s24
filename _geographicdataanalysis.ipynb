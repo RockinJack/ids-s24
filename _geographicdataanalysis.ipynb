{
  "cells": [
    {
      "cell_type": "raw",
      "id": "66304547",
      "metadata": {},
      "source": [
        "---\n",
        "title: \"Geographic Data Analysis\"\n",
        "author: \"Jack Dennison\"\n",
        "toc: true\n",
        "number-sections: true\n",
        "highlight-style: pygments\n",
        "format: \n",
        "  html: \n",
        "    code-fold: true\n",
        "    html-math-method: katex\n",
        "  pdf: \n",
        "    geometry: \n",
        "      - top=30mm\n",
        "      - left=20mm\n",
        "##  docx: default\n",
        "--- "
      ]
    },
    {
      "cell_type": "markdown",
      "id": "22379a5f",
      "metadata": {},
      "source": [
        "This section was written by Jack Dennison. \n",
        "\n",
        "\n",
        " ## Introduction  \n",
        " Hello! My name is Jack Dennison and I am a junior dual Applied Data Analysis and Geographic Information \n",
        " systems major. I am interested in the intersection of geography and statistics, so this presentation \n",
        " reflects that. Therefore, I'm going to talk about the various ways that Geographic Data Analysis can be \n",
        " done using python. Some examples of things that will be disussed are `geopy`, `geopandas`, and `arcpy`.\n",
        "\n",
        " ## Downloading the Necessary Packages\n",
        " In order to download GeoPy, you can simply install it using either Conda or pip commands.\n",
        " Using Conda:\n",
        " ```bash\n",
        " conda install geopy\n",
        " ```\n",
        " Using pip:\n",
        " ```bash\n",
        " pip install geopy\n",
        " ```\n",
        " \n",
        " To install GeoPandas, it's recommended that you first download prerequisite packages, such as NumPy, \n",
        " pandas, shapely, and Fiona. After that, you can use Conda or pip to install GeoPandas.\n",
        "\n",
        " Using Conda:\n",
        " ```bash\n",
        " conda install numpy pandas shapely Fiona\n",
        " conda install geopandas\n",
        " ```\n",
        "\n",
        " Using pip:\n",
        " ```bash\n",
        " pip install numpy pandas shapely Fiona\n",
        " pip install geopandas\n",
        " ```\n",
        "\n",
        " ## GeoPy Overview\n",
        " GeoPy is a powerful Python library that provides geocoding capabilities and various geospatial \n",
        " utilities. It allows users to perform various tasks related to geographical information, including \n",
        " geocoding, reverse geocoding, distance calculations, and more.\n",
        "\n",
        " ### Geocoding\n",
        " GeoPy can be used to geocode, which is to turn addresses into locations on the coordinate system plane. \n",
        " For example, take an address from the Rodent Data Spreadsheet.\n",
        "\n",
        " * 265 Putnam Avenue, Brooklyn, New York\n",
        "\n",
        " Using the Nominatim encoder from OpenStreetMap, we can geocode to find the lattitude and longitude of \n",
        " this address. Before going through with this, it should be noted that the rodent data file does give\n",
        " the latitude and longitude of every rodent incident, so this will be used to check work. The coordinates\n",
        " given by the data are as follows: (40.683855196486164, -73.95164557951071). Let's see if we can \n",
        " replicate this with geopy.\n"
      ]
    },
    {
      "cell_type": "code",
      "execution_count": 5,
      "id": "ae8d5989",
      "metadata": {
        "vscode": {
          "languageId": "python"
        }
      },
      "outputs": [
        {
          "name": "stdout",
          "output_type": "stream",
          "text": [
            "Address: 265 Putnam Avenue, Brooklyn, NY\n",
            "Latitude: 40.68404835\n",
            "Longitude: -73.95149699550375\n"
          ]
        }
      ],
      "source": [
        "from geopy.geocoders import Nominatim\n",
        "\n",
        "# Initialize the Nominatim geocoder\n",
        "geolocator = Nominatim(user_agent=\"GeoCoding\")\n",
        "\n",
        "# Address to be geocoded\n",
        "address = \"265 Putnam Avenue, Brooklyn, NY\"\n",
        "\n",
        "try:\n",
        "    # Perform geocoding\n",
        "    location = geolocator.geocode(address)\n",
        "\n",
        "    if location:\n",
        "        # Print the results\n",
        "        print(\"Address:\", address)\n",
        "        print(\"Latitude:\", location.latitude)\n",
        "        print(\"Longitude:\", location.longitude)\n",
        "    else:\n",
        "        print(\"Location not found.\")\n",
        "except Exception as e:\n",
        "    print(\"Error:\", e)"
      ]
    },
    {
      "cell_type": "markdown",
      "id": "946e87b5",
      "metadata": {},
      "source": [
        "\n",
        "\n",
        "\n",
        " And the output is as follows:\n",
        "Address: 265 Putnam Avenue, Brooklyn, NY\n",
        "Latitude: 40.68404835\n",
        "Longitude: -73.95149699550375\n",
        "\n",
        " This is remarkably similar to the coordinates given by the rodent data file, meaning that we can \n",
        " confirm that that data is accurate.\n",
        "\n",
        " ### Reverse Geocoding\n",
        " Similarly to how we can use GeoPy to geocode a coordinate based off of an address, we can also do this\n",
        " in reverse: take an address from a lattitude and longitude. Let's again take two coordinates from the\n",
        " rodent data:\n",
        "\n",
        " * (40.77924175816874, -73.95368859796383)\n",
        "\n",
        "With this code, the latitude is the first number and the longitude is the second number.  This latitude,\n",
        "according to the spreadsheet, gives the address 1538 Third Avenue, Manhattan, New York. Let's \n",
        "reverse-geocode to find if the address of these coordinates is accurate.\n",
        "\n"
      ]
    },
    {
      "cell_type": "code",
      "execution_count": 6,
      "id": "f99ad01b",
      "metadata": {
        "vscode": {
          "languageId": "python"
        }
      },
      "outputs": [
        {
          "name": "stdout",
          "output_type": "stream",
          "text": [
            "Latitude: 40.77924175816874\n",
            "Longitude: -73.95368859796383\n",
            "Address: 1538, 3rd Avenue, Carnegie Hill, Manhattan, New York County, City of New York, New York, 10028, United States\n"
          ]
        }
      ],
      "source": [
        "from geopy.geocoders import Nominatim\n",
        "\n",
        "# Initialize the Nominatim geocoder\n",
        "geolocator = Nominatim(user_agent=\"ReverseGeoCoding\")\n",
        "\n",
        "# Coordinates to be reverse geocoded (latitude and longitude)\n",
        "latitude = 40.77924175816874\n",
        "longitude = -73.95368859796383\n",
        "\n",
        "try:\n",
        "    # Perform reverse geocoding\n",
        "    location = geolocator.reverse((latitude, longitude), exactly_one=True)\n",
        "\n",
        "    if location:\n",
        "        # Print the results\n",
        "        print(\"Latitude:\", latitude)\n",
        "        print(\"Longitude:\", longitude)\n",
        "        print(\"Address:\", location.address)\n",
        "    else:\n",
        "        print(\"Location not found.\")\n",
        "except Exception as e:\n",
        "    print(\"Error:\", e)\n"
      ]
    },
    {
      "cell_type": "markdown",
      "id": "880e4fd0",
      "metadata": {},
      "source": [
        "And here is the output:\n",
        " Latitude: 40.77924175816874\n",
        " Longitude: -73.95368859796383\n",
        " Address: 1538, 3rd Avenue, Carnegie Hill, Manhattan, New York County, City of New York, New York, \n",
        " 10028, United States\n",
        "\n",
        " This matches up exactly with the address that is given in the spreadsheet. This demonstrates how useful\n",
        " reverse geo-coding can be with Python and GeoPy.\n",
        "\n",
        " ### Distance Mapping\n",
        " Geopy can also be used to map distances between locations. To exemplify this, let's use the two \n",
        " coordinates from the previous two examples. We will be calculating the distance using the Haversine \n",
        " formula, which is a method to compute distances between two points on a sphere.\n",
        "\n",
        "\n",
        "\n",
        " "
      ]
    },
    {
      "cell_type": "code",
      "execution_count": 7,
      "id": "faaec201",
      "metadata": {
        "vscode": {
          "languageId": "python"
        }
      },
      "outputs": [
        {
          "name": "stdout",
          "output_type": "stream",
          "text": [
            "Distance between the two listed points: 6.58 miles\n"
          ]
        }
      ],
      "source": [
        "from geopy.distance import distance\n",
        "\n",
        "# Coordinates of two points (latitude and longitude)\n",
        "point1 = (40.683855196486164, -73.95164557951071)  # Point from geocoding example\n",
        "point2 = (40.77924175816874, -73.95368859796383)  # Point from reverse geocoding example\n",
        "\n",
        "# Calculate the distance between the two points using the Haversine formula\n",
        "distance_haversine = distance(point1, point2).miles  # You can also use kilometers by using .kilometers\n",
        "\n",
        "# Print the result\n",
        "print(\"Distance between the two listed points: {:.2f} miles\".format(distance_haversine))\n"
      ]
    },
    {
      "cell_type": "markdown",
      "id": "e0208068",
      "metadata": {},
      "source": [
        "\n",
        "\n",
        " Here is the output: \n",
        " Distance between the two listed points: 6.58 miles\n",
        "\n",
        " This is an effective method to look at the distance between two points on earth. While the two locations\n",
        " in New York are rather close to each other, this method works regardless of the whereabouts of the points.\n",
        "\n",
        " ### Other Features\n",
        " In addition to these features, geopy can be used for a variety of other tasks. For instance, it can work\n",
        " with GeoPandas, Shapely, and Fiona to manipulate geospatial data. It allows users to easily switch \n",
        " between different geocoding providers and customize their geocoding workflow based on their specific \n",
        " needs. Because of the ease of use of the software and its open-source code, it's accessible to both \n",
        " beginners and experienced developers and encourages collaboration and innovation, allowing users to \n",
        " contribute enhancements, report issues, and share their experiences with the community.\n",
        "\n",
        " ## Geopandas\n",
        " Geopandas is another spatially related Python package, which allows a lot more operations to work with\n",
        " geospatial data. It extends the capabilities of the popular data manipulation library, pandas, by \n",
        " adding support for geometric operations and spatial data types. GeoPandas combines the functionality of \n",
        " pandas with the capabilities of other geospatial libraries such as Shapely, Fiona, and Matplotlib, \n",
        " making it a powerful tool for geospatial analysis, manipulation, and visualization.\n",
        "\n",
        " ### Importing CSV Data\n",
        " To work with the rodent data with geopandas, the data first needs to imported into a GeoDataFrame. This \n",
        " can be done easily, but it's important specify geometry column as the coordinate columns. Here is how\n",
        " it's done.\n"
      ]
    },
    {
      "cell_type": "code",
      "execution_count": 8,
      "id": "728ecc94",
      "metadata": {
        "vscode": {
          "languageId": "python"
        }
      },
      "outputs": [],
      "source": [
        "import geopandas as gpd\n",
        "import pandas as pd\n",
        "\n",
        "# Read CSV file into a GeoDataFrame\n",
        "gdf = gpd.read_file('/Users/jackdennison/rodent-sighting-data-cleaning-RockinJack/HW4_rodents.csv', \n",
        "                    crs='EPSG:4326')  # Specify the coordinate reference system (CRS)\n",
        "\n",
        "# Drop rows with missing or invalid coordinates\n",
        "gdf = gdf.dropna(subset=['Longitude', 'Latitude'])\n",
        "\n",
        "# Convert 'Longitude' and 'Latitude' columns to numeric type\n",
        "gdf['Longitude'] = pd.to_numeric(gdf['Longitude'], errors='coerce')\n",
        "gdf['Latitude'] = pd.to_numeric(gdf['Latitude'], errors='coerce')\n",
        "\n",
        "# Create geometry column from Latitude and Longitude\n",
        "gdf['geometry'] = gpd.points_from_xy(gdf['Longitude'], gdf['Latitude'])\n"
      ]
    },
    {
      "cell_type": "markdown",
      "id": "ddeae27a",
      "metadata": {},
      "source": [
        "### Visuallizing Geographic Data\n",
        "\n",
        "Once you have imported the data into a GeoDataFrame, you can visualize it using GeoPandas plotting \n",
        "capabilities. There are a variety of plots to be used, but I'm going to use the simple matplotlib\n",
        "scatterplot."
      ]
    },
    {
      "cell_type": "code",
      "execution_count": 9,
      "id": "1c2c03bb",
      "metadata": {
        "vscode": {
          "languageId": "python"
        }
      },
      "outputs": [
        {
          "data": {
            "image/png": "[encoded data removed]",
            "text/plain": [
              "<Figure size 432x288 with 1 Axes>"
            ]
          },
          "metadata": {
            "needs_background": "light"
          },
          "output_type": "display_data"
        }
      ],
      "source": [
        "import matplotlib.pyplot as plt\n",
        "\n",
        "# Plot the GeoDataFrame\n",
        "gdf.plot()\n",
        "plt.show()"
      ]
    },
    {
      "cell_type": "markdown",
      "id": "9443d115",
      "metadata": {},
      "source": [
        "This plot creates what almost looks like an outline of New York City, which is not only interesting in \n",
        "its own right, but also highlights the extent of the rodent problem in the city. Using geopandas can \n",
        "fully highlight the scope of the issue by showing the data on a visual scale.\n",
        "\n",
        "### Geometric Operations\n",
        "\n",
        "GeoPandas allows you to perform geometric operations on the GeoDataFrame. For example, you can buffer \n",
        "the points and calculate distances between points. Here's how these operations are done:"
      ]
    },
    {
      "cell_type": "code",
      "execution_count": 10,
      "id": "7171f75c",
      "metadata": {
        "vscode": {
          "languageId": "python"
        }
      },
      "outputs": [
        {
          "data": {
            "image/png": "[encoded data removed]",
            "text/plain": [
              "<Figure size 432x288 with 1 Axes>"
            ]
          },
          "metadata": {
            "needs_background": "light"
          },
          "output_type": "display_data"
        },
        {
          "data": {
            "text/plain": [
              "0             NaN\n",
              "1        0.095408\n",
              "2        0.101210\n",
              "3        0.165848\n",
              "4        0.017893\n",
              "           ...   \n",
              "82864    0.217853\n",
              "82865    0.033870\n",
              "82866    0.104741\n",
              "82867    0.049369\n",
              "82868    0.141928\n",
              "Length: 82869, dtype: float64"
            ]
          },
          "execution_count": 10,
          "metadata": {},
          "output_type": "execute_result"
        }
      ],
      "source": [
        "import matplotlib.pyplot as plt\n",
        "# Buffer the points by a certain distance\n",
        "buffered = gdf.buffer(distance=0.01)\n",
        "\n",
        "# Calculate distances between points\n",
        "distances = gdf.distance(gdf.shift())\n",
        "\n",
        "buffered.plot()\n",
        "plt.show()\n",
        "distances"
      ]
    },
    {
      "cell_type": "markdown",
      "id": "550aabda",
      "metadata": {},
      "source": [
        "The buffer creates a small circle around each point in the data. The plot reflects this, as the circles \n",
        "are slightly larger than the initial plot. Meanwhile, distances are listed as miles from one point to \n",
        "another. Both of these operations can be useful for various spatial data analytics topics.\n",
        "\n",
        "### Exporting Data\n",
        "Another feature of GeoPandas is that GeoDataFrames can be exported to various file types, such as \n",
        "shapefiles, GeoJSON, CSV, and other formats. This can be done using this code:\n"
      ]
    },
    {
      "cell_type": "code",
      "execution_count": 11,
      "id": "bdb3737e",
      "metadata": {
        "vscode": {
          "languageId": "python"
        }
      },
      "outputs": [
        {
          "name": "stderr",
          "output_type": "stream",
          "text": [
            "/var/folders/4s/r5kw56xn3tx7yt0kwh7btr4h0000gn/T/ipykernel_26013/3919060867.py:1: UserWarning: Column names longer than 10 characters will be truncated when saved to ESRI Shapefile.\n",
            "  gdf.to_file('output.shp')\n"
          ]
        }
      ],
      "source": [
        "gdf.to_file('output.shp')"
      ]
    },
    {
      "cell_type": "markdown",
      "id": "a10301d6",
      "metadata": {},
      "source": [
        "\n",
        "This shapefile can be used with ArcGIS Pro and ArcPy to do further data analysis on it.\n",
        "\n",
        "### Other Features\n",
        "There are several other features that GeoPandas has. Its seamless integration with Pandas allows users \n",
        "to leverage the familiar DataFrame and Series data structures for geospatial data analysis. It can do \n",
        "operations such as joins and Geocoding which are improved versions of commands from Pandas and Geopy \n",
        "respectively. GeoPandas seamlessly integrates with other Python libraries commonly used in the \n",
        "geospatial ecosystem, such as Shapely, Fiona, Pyproj, Cartopy, and more. This interoperability allows \n",
        "users to leverage the functionalities of these libraries in conjunction with GeoPandas for advanced \n",
        "geospatial analysis and visualization tasks. These features make GeoPandas a valuable tool for \n",
        "geospatial data analysis, manipulation, and visualization in Python, suitable for a wide range of \n",
        "applications and domains.\n",
        "\n",
        "## ArcPy\n",
        "ArcPy is another very effective way to conduct geographic data analysis queries. This package is unique,\n",
        "because it's unique to ESRI's ArcGIS software, which is geographic information system (GIS) software \n",
        "platform. This provides a comprehensive set of tools and functions for automating, customizing, and \n",
        "extending the capabilities of ArcGIS Desktop, including ArcMap, ArcCatalog, and ArcGIS Pro.\n",
        "\n",
        "ArcPy allows users to manage and manipulate geospatial data within ArcGIS, provides access to a wide \n",
        "range of geoprocessing tools and spatial analysis functions available in ArcGIS, allows users to \n",
        "automate map creation and layout design, provides tools for converting between different geospatial data \n",
        "formats and data sources, and provides many more resources for optimizing the creation of maps. \n",
        "Unfortunately, due to the service requiring ArcGIS pro to function, the capabilities of ArcPy can not be \n",
        "demonstrated in class, but the usefulness of the program cannot be understated.\n",
        "\n",
        "## Conclusion\n",
        "\n",
        "In conclusion, Geographic Data Analysis offers a multitude of possibilities for exploring, visualizing, \n",
        "and understanding spatial relationships and patterns. Through the exploration of tools like GeoPy, \n",
        "GeoPandas, and ArcPy, we've uncovered a plethora of capabilities for geospatial data manipulation, \n",
        "analysis, and visualization using Python.\n",
        "\n",
        "GeoPy, with its geocoding and reverse geocoding functionalities, provides valuable tools for translating \n",
        "addresses to coordinates and vice versa, enabling precise spatial analysis. Its distance calculation \n",
        "capabilities further enhance our ability to quantify spatial relationships and distances between \n",
        "locations.\n",
        "\n",
        "GeoPandas extends the power of Pandas to spatial data analysis, allowing seamless integration of \n",
        "geometric operations and spatial data types into our workflows. From importing CSV data to performing \n",
        "geometric operations and visualizing geographic data, GeoPandas offers a comprehensive toolkit for \n",
        "geospatial analysis and visualization.\n",
        "\n",
        "While ArcPy offers similar functionalities, it is uniquely tailored to the ArcGIS software platform, \n",
        "providing a robust set of tools for managing and analyzing geospatial data within ArcGIS Desktop \n",
        "environments. Although not directly demonstrated in this report, ArcPy serves as a powerful resource for \n",
        "GIS professionals, offering automation, customization, and extensibility capabilities.\n",
        "\n",
        "Overall, the combination of GeoPy, GeoPandas, and ArcPy empowers users to explore, analyze, and \n",
        "visualize geospatial data with ease and precision. Whether it's exploring spatial relationships, \n",
        "conducting spatial analysis, or creating insightful visualizations, Geographic Data Analysis with Python \n",
        "opens up endless possibilities for understanding our world through spatial data.\n",
        "\n",
        "## References\n",
        "\n",
        "* GeoPy Documentation \n",
        "    + https://geopy.readthedocs.io/en/stable/\n",
        "* GeoPandas Documentation: \n",
        "    + https://geopandas.org/en/stable/index.html\n",
        "* ArcPy Info\n",
        "    + https://pro.arcgis.com/en/pro-app/3.1/arcpy/get-started/what-is-arcpy-.htm\n",
        "* NYC Rodent Data\n",
        "    + https://data.cityofnewyork.us/Social-Services/311-Service-Requests-from-2010-to-Present/erm2-nwe9/about_data"
      ]
    }
  ],
  "metadata": {
    "kernelspec": {
      "display_name": "Python 3 (ipykernel)",
      "language": "python",
      "name": "python3"
    }
  },
  "nbformat": 4,
  "nbformat_minor": 5
}
